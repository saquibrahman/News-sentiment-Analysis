{
 "cells": [
  {
   "cell_type": "markdown",
   "metadata": {},
   "source": [
    "## importing the relevant modules for our project"
   ]
  },
  {
   "cell_type": "code",
   "execution_count": 1,
   "metadata": {},
   "outputs": [],
   "source": [
    "import pandas as pd\n",
    "import numpy as np\n",
    "import matplotlib.pyplot as plt\n",
    "import datetime\n",
    "import re\n",
    "from scipy.sparse import hstack, csr_matrix\n",
    "\n",
    "import nltk\n",
    "from nltk.corpus import stopwords \n",
    "from nltk.tokenize import word_tokenize\n",
    "from nltk.stem import WordNetLemmatizer, PorterStemmer\n",
    "\n",
    "from sklearn.feature_extraction.text import CountVectorizer, TfidfVectorizer\n",
    "from sklearn.preprocessing import LabelEncoder, StandardScaler\n",
    "from sklearn.model_selection import train_test_split\n",
    "from sklearn.decomposition import TruncatedSVD\n",
    "from sklearn.svm import LinearSVR\n",
    "from sklearn.ensemble import RandomForestRegressor\n",
    "from sklearn.metrics import mean_absolute_error\n",
    "\n",
    "from wordcloud import WordCloud, STOPWORDS \n",
    "from textblob import TextBlob\n",
    "import lightgbm as lgb\n",
    "\n",
    "%matplotlib inline"
   ]
  },
  {
   "cell_type": "code",
   "execution_count": 2,
   "metadata": {},
   "outputs": [],
   "source": [
    "# !pip install wordcloud    ## installing wordclaud & lightgbm because this module was installed\n",
    "# !pip install lightgbm"
   ]
  },
  {
   "cell_type": "code",
   "execution_count": 4,
   "metadata": {},
   "outputs": [
    {
     "name": "stdout",
     "output_type": "stream",
     "text": [
      "C:\\Users\\shaqu\\Desktop\\Data Science Projects\\predict the news sentiment ~ ZS\\news sentiment\\dataset\n"
     ]
    }
   ],
   "source": [
    "\n",
    "cd C:\\Users\\shaqu\\Desktop\\Data Science Projects\\predict the news sentiment ~ ZS\\news sentiment\\dataset"
   ]
  },
  {
   "cell_type": "code",
   "execution_count": 5,
   "metadata": {},
   "outputs": [],
   "source": [
    "# reading the dataset!!\n",
    "\n",
    "train = pd.read_csv('train_file.csv')\n",
    "test = pd.read_csv('test_file.csv')\n"
   ]
  },
  {
   "cell_type": "markdown",
   "metadata": {},
   "source": [
    "## data exploration!!"
   ]
  },
  {
   "cell_type": "code",
   "execution_count": 6,
   "metadata": {},
   "outputs": [
    {
     "data": {
      "text/html": [
       "<div>\n",
       "<style scoped>\n",
       "    .dataframe tbody tr th:only-of-type {\n",
       "        vertical-align: middle;\n",
       "    }\n",
       "\n",
       "    .dataframe tbody tr th {\n",
       "        vertical-align: top;\n",
       "    }\n",
       "\n",
       "    .dataframe thead th {\n",
       "        text-align: right;\n",
       "    }\n",
       "</style>\n",
       "<table border=\"1\" class=\"dataframe\">\n",
       "  <thead>\n",
       "    <tr style=\"text-align: right;\">\n",
       "      <th></th>\n",
       "      <th>IDLink</th>\n",
       "      <th>Title</th>\n",
       "      <th>Headline</th>\n",
       "      <th>Source</th>\n",
       "      <th>Topic</th>\n",
       "      <th>PublishDate</th>\n",
       "      <th>Facebook</th>\n",
       "      <th>GooglePlus</th>\n",
       "      <th>LinkedIn</th>\n",
       "      <th>SentimentTitle</th>\n",
       "      <th>SentimentHeadline</th>\n",
       "    </tr>\n",
       "  </thead>\n",
       "  <tbody>\n",
       "    <tr>\n",
       "      <td>0</td>\n",
       "      <td>Tr3CMgRv1N</td>\n",
       "      <td>Obama Lays Wreath at Arlington National Cemetery</td>\n",
       "      <td>Obama Lays Wreath at Arlington National Cemete...</td>\n",
       "      <td>USA TODAY</td>\n",
       "      <td>obama</td>\n",
       "      <td>2002-04-02 00:00:00</td>\n",
       "      <td>-1</td>\n",
       "      <td>-1</td>\n",
       "      <td>-1</td>\n",
       "      <td>0.000000</td>\n",
       "      <td>-0.053300</td>\n",
       "    </tr>\n",
       "    <tr>\n",
       "      <td>1</td>\n",
       "      <td>Wc81vGp8qZ</td>\n",
       "      <td>A Look at the Health of the Chinese Economy</td>\n",
       "      <td>Tim Haywood, investment director business-unit...</td>\n",
       "      <td>Bloomberg</td>\n",
       "      <td>economy</td>\n",
       "      <td>2008-09-20 00:00:00</td>\n",
       "      <td>-1</td>\n",
       "      <td>-1</td>\n",
       "      <td>-1</td>\n",
       "      <td>0.208333</td>\n",
       "      <td>-0.156386</td>\n",
       "    </tr>\n",
       "    <tr>\n",
       "      <td>2</td>\n",
       "      <td>zNGH03CrZH</td>\n",
       "      <td>Nouriel Roubini: Global Economy Not Back to 2008</td>\n",
       "      <td>Nouriel Roubini, NYU professor and chairman at...</td>\n",
       "      <td>Bloomberg</td>\n",
       "      <td>economy</td>\n",
       "      <td>2012-01-28 00:00:00</td>\n",
       "      <td>-1</td>\n",
       "      <td>-1</td>\n",
       "      <td>-1</td>\n",
       "      <td>-0.425210</td>\n",
       "      <td>0.139754</td>\n",
       "    </tr>\n",
       "    <tr>\n",
       "      <td>3</td>\n",
       "      <td>3sM1H0W8ts</td>\n",
       "      <td>Finland GDP Expands In Q4</td>\n",
       "      <td>Finland's economy expanded marginally in the t...</td>\n",
       "      <td>RTT News</td>\n",
       "      <td>economy</td>\n",
       "      <td>2015-03-01 00:06:00</td>\n",
       "      <td>-1</td>\n",
       "      <td>-1</td>\n",
       "      <td>-1</td>\n",
       "      <td>0.000000</td>\n",
       "      <td>0.026064</td>\n",
       "    </tr>\n",
       "    <tr>\n",
       "      <td>4</td>\n",
       "      <td>wUbnxgvqaZ</td>\n",
       "      <td>Tourism, govt spending buoys Thai economy in J...</td>\n",
       "      <td>Tourism and public spending continued to boost...</td>\n",
       "      <td>The Nation - Thailand&amp;#39;s English news</td>\n",
       "      <td>economy</td>\n",
       "      <td>2015-03-01 00:11:00</td>\n",
       "      <td>-1</td>\n",
       "      <td>-1</td>\n",
       "      <td>-1</td>\n",
       "      <td>0.000000</td>\n",
       "      <td>0.141084</td>\n",
       "    </tr>\n",
       "  </tbody>\n",
       "</table>\n",
       "</div>"
      ],
      "text/plain": [
       "       IDLink                                              Title  \\\n",
       "0  Tr3CMgRv1N   Obama Lays Wreath at Arlington National Cemetery   \n",
       "1  Wc81vGp8qZ        A Look at the Health of the Chinese Economy   \n",
       "2  zNGH03CrZH   Nouriel Roubini: Global Economy Not Back to 2008   \n",
       "3  3sM1H0W8ts                          Finland GDP Expands In Q4   \n",
       "4  wUbnxgvqaZ  Tourism, govt spending buoys Thai economy in J...   \n",
       "\n",
       "                                            Headline  \\\n",
       "0  Obama Lays Wreath at Arlington National Cemete...   \n",
       "1  Tim Haywood, investment director business-unit...   \n",
       "2  Nouriel Roubini, NYU professor and chairman at...   \n",
       "3  Finland's economy expanded marginally in the t...   \n",
       "4  Tourism and public spending continued to boost...   \n",
       "\n",
       "                                     Source    Topic          PublishDate  \\\n",
       "0                                 USA TODAY    obama  2002-04-02 00:00:00   \n",
       "1                                 Bloomberg  economy  2008-09-20 00:00:00   \n",
       "2                                 Bloomberg  economy  2012-01-28 00:00:00   \n",
       "3                                  RTT News  economy  2015-03-01 00:06:00   \n",
       "4  The Nation - Thailand&#39;s English news  economy  2015-03-01 00:11:00   \n",
       "\n",
       "   Facebook  GooglePlus  LinkedIn  SentimentTitle  SentimentHeadline  \n",
       "0        -1          -1        -1        0.000000          -0.053300  \n",
       "1        -1          -1        -1        0.208333          -0.156386  \n",
       "2        -1          -1        -1       -0.425210           0.139754  \n",
       "3        -1          -1        -1        0.000000           0.026064  \n",
       "4        -1          -1        -1        0.000000           0.141084  "
      ]
     },
     "execution_count": 6,
     "metadata": {},
     "output_type": "execute_result"
    }
   ],
   "source": [
    "train.head()\n"
   ]
  },
  {
   "cell_type": "code",
   "execution_count": 7,
   "metadata": {},
   "outputs": [
    {
     "data": {
      "text/plain": [
       "(55932, 11)"
      ]
     },
     "execution_count": 7,
     "metadata": {},
     "output_type": "execute_result"
    }
   ],
   "source": [
    "train.shape"
   ]
  },
  {
   "cell_type": "code",
   "execution_count": 8,
   "metadata": {},
   "outputs": [
    {
     "data": {
      "text/html": [
       "<div>\n",
       "<style scoped>\n",
       "    .dataframe tbody tr th:only-of-type {\n",
       "        vertical-align: middle;\n",
       "    }\n",
       "\n",
       "    .dataframe tbody tr th {\n",
       "        vertical-align: top;\n",
       "    }\n",
       "\n",
       "    .dataframe thead th {\n",
       "        text-align: right;\n",
       "    }\n",
       "</style>\n",
       "<table border=\"1\" class=\"dataframe\">\n",
       "  <thead>\n",
       "    <tr style=\"text-align: right;\">\n",
       "      <th></th>\n",
       "      <th>IDLink</th>\n",
       "      <th>Title</th>\n",
       "      <th>Headline</th>\n",
       "      <th>Source</th>\n",
       "      <th>Topic</th>\n",
       "      <th>PublishDate</th>\n",
       "      <th>Facebook</th>\n",
       "      <th>GooglePlus</th>\n",
       "      <th>LinkedIn</th>\n",
       "    </tr>\n",
       "  </thead>\n",
       "  <tbody>\n",
       "    <tr>\n",
       "      <td>0</td>\n",
       "      <td>tFrqIR6Chj</td>\n",
       "      <td>Sliding Economy: FG fights back with N3trn TSA...</td>\n",
       "      <td>With the 2016 budget now passed by the Nationa...</td>\n",
       "      <td>BusinessDay</td>\n",
       "      <td>economy</td>\n",
       "      <td>2016-03-29 01:41:12</td>\n",
       "      <td>0</td>\n",
       "      <td>0</td>\n",
       "      <td>1</td>\n",
       "    </tr>\n",
       "    <tr>\n",
       "      <td>1</td>\n",
       "      <td>DVAaGErjlF</td>\n",
       "      <td>Microsoft shows how HoloLens can bring distant...</td>\n",
       "      <td>A recent Microsoft Research video shows how th...</td>\n",
       "      <td>Daily Mail</td>\n",
       "      <td>microsoft</td>\n",
       "      <td>2016-03-29 01:41:27</td>\n",
       "      <td>121</td>\n",
       "      <td>2</td>\n",
       "      <td>13</td>\n",
       "    </tr>\n",
       "    <tr>\n",
       "      <td>2</td>\n",
       "      <td>OT9UIZm5M2</td>\n",
       "      <td>Microsoft’s Twitter Robot Praises Hitler, Trum...</td>\n",
       "      <td>* Microsoft teamed with Bing to create TayTwee...</td>\n",
       "      <td>EURweb</td>\n",
       "      <td>microsoft</td>\n",
       "      <td>2016-03-29 01:47:00</td>\n",
       "      <td>12</td>\n",
       "      <td>1</td>\n",
       "      <td>0</td>\n",
       "    </tr>\n",
       "    <tr>\n",
       "      <td>3</td>\n",
       "      <td>lflGp3q2Fj</td>\n",
       "      <td>Flood of Central Bank Moves Can't Get World Ec...</td>\n",
       "      <td>Central bankers have managed to steer the worl...</td>\n",
       "      <td>Bloomberg via Yahoo! Finance</td>\n",
       "      <td>economy</td>\n",
       "      <td>2016-03-29 02:00:00</td>\n",
       "      <td>0</td>\n",
       "      <td>0</td>\n",
       "      <td>3</td>\n",
       "    </tr>\n",
       "    <tr>\n",
       "      <td>4</td>\n",
       "      <td>zDYG0SoovZ</td>\n",
       "      <td>USD/JPY: bears lining up on mixed U.S. economy...</td>\n",
       "      <td>However, this streak of seven-day gains might ...</td>\n",
       "      <td>FXStreet</td>\n",
       "      <td>economy</td>\n",
       "      <td>2016-03-29 02:01:07</td>\n",
       "      <td>3</td>\n",
       "      <td>0</td>\n",
       "      <td>0</td>\n",
       "    </tr>\n",
       "  </tbody>\n",
       "</table>\n",
       "</div>"
      ],
      "text/plain": [
       "       IDLink                                              Title  \\\n",
       "0  tFrqIR6Chj  Sliding Economy: FG fights back with N3trn TSA...   \n",
       "1  DVAaGErjlF  Microsoft shows how HoloLens can bring distant...   \n",
       "2  OT9UIZm5M2  Microsoft’s Twitter Robot Praises Hitler, Trum...   \n",
       "3  lflGp3q2Fj  Flood of Central Bank Moves Can't Get World Ec...   \n",
       "4  zDYG0SoovZ  USD/JPY: bears lining up on mixed U.S. economy...   \n",
       "\n",
       "                                            Headline  \\\n",
       "0  With the 2016 budget now passed by the Nationa...   \n",
       "1  A recent Microsoft Research video shows how th...   \n",
       "2  * Microsoft teamed with Bing to create TayTwee...   \n",
       "3  Central bankers have managed to steer the worl...   \n",
       "4  However, this streak of seven-day gains might ...   \n",
       "\n",
       "                         Source      Topic          PublishDate  Facebook  \\\n",
       "0                   BusinessDay    economy  2016-03-29 01:41:12         0   \n",
       "1                    Daily Mail  microsoft  2016-03-29 01:41:27       121   \n",
       "2                        EURweb  microsoft  2016-03-29 01:47:00        12   \n",
       "3  Bloomberg via Yahoo! Finance    economy  2016-03-29 02:00:00         0   \n",
       "4                      FXStreet    economy  2016-03-29 02:01:07         3   \n",
       "\n",
       "   GooglePlus  LinkedIn  \n",
       "0           0         1  \n",
       "1           2        13  \n",
       "2           1         0  \n",
       "3           0         3  \n",
       "4           0         0  "
      ]
     },
     "execution_count": 8,
     "metadata": {},
     "output_type": "execute_result"
    }
   ],
   "source": [
    "test.head()"
   ]
  },
  {
   "cell_type": "code",
   "execution_count": 8,
   "metadata": {},
   "outputs": [
    {
     "data": {
      "text/plain": [
       "(37288, 9)"
      ]
     },
     "execution_count": 8,
     "metadata": {},
     "output_type": "execute_result"
    }
   ],
   "source": [
    "test.shape"
   ]
  },
  {
   "cell_type": "code",
   "execution_count": 9,
   "metadata": {},
   "outputs": [],
   "source": [
    "## now focussing on our training dataset first!!"
   ]
  },
  {
   "cell_type": "code",
   "execution_count": 9,
   "metadata": {},
   "outputs": [
    {
     "name": "stdout",
     "output_type": "stream",
     "text": [
      "<class 'pandas.core.frame.DataFrame'>\n",
      "RangeIndex: 55932 entries, 0 to 55931\n",
      "Data columns (total 11 columns):\n",
      "IDLink               55932 non-null object\n",
      "Title                55932 non-null object\n",
      "Headline             55932 non-null object\n",
      "Source               55757 non-null object\n",
      "Topic                55932 non-null object\n",
      "PublishDate          55932 non-null object\n",
      "Facebook             55932 non-null int64\n",
      "GooglePlus           55932 non-null int64\n",
      "LinkedIn             55932 non-null int64\n",
      "SentimentTitle       55932 non-null float64\n",
      "SentimentHeadline    55932 non-null float64\n",
      "dtypes: float64(2), int64(3), object(6)\n",
      "memory usage: 4.7+ MB\n"
     ]
    }
   ],
   "source": [
    "train.info()"
   ]
  },
  {
   "cell_type": "code",
   "execution_count": 11,
   "metadata": {},
   "outputs": [],
   "source": [
    "# columns ['IDLink', 'Title', 'Headline', 'Source', 'Topic', 'PublishDate'] are object type like string and columns ['Facebook', 'GooglePlus', 'LinkedIn',] are numeric type integers and columns ['SentimentTitle',\n",
    "#        'SentimentHeadline'] are numeric type float !!"
   ]
  },
  {
   "cell_type": "code",
   "execution_count": 12,
   "metadata": {},
   "outputs": [
    {
     "data": {
      "text/html": [
       "<div>\n",
       "<style scoped>\n",
       "    .dataframe tbody tr th:only-of-type {\n",
       "        vertical-align: middle;\n",
       "    }\n",
       "\n",
       "    .dataframe tbody tr th {\n",
       "        vertical-align: top;\n",
       "    }\n",
       "\n",
       "    .dataframe thead th {\n",
       "        text-align: right;\n",
       "    }\n",
       "</style>\n",
       "<table border=\"1\" class=\"dataframe\">\n",
       "  <thead>\n",
       "    <tr style=\"text-align: right;\">\n",
       "      <th></th>\n",
       "      <th>Facebook</th>\n",
       "      <th>GooglePlus</th>\n",
       "      <th>LinkedIn</th>\n",
       "      <th>SentimentTitle</th>\n",
       "      <th>SentimentHeadline</th>\n",
       "    </tr>\n",
       "  </thead>\n",
       "  <tbody>\n",
       "    <tr>\n",
       "      <td>count</td>\n",
       "      <td>55932.000000</td>\n",
       "      <td>55932.000000</td>\n",
       "      <td>55932.000000</td>\n",
       "      <td>55932.000000</td>\n",
       "      <td>55932.000000</td>\n",
       "    </tr>\n",
       "    <tr>\n",
       "      <td>mean</td>\n",
       "      <td>132.050329</td>\n",
       "      <td>4.551616</td>\n",
       "      <td>14.300132</td>\n",
       "      <td>-0.006318</td>\n",
       "      <td>-0.029577</td>\n",
       "    </tr>\n",
       "    <tr>\n",
       "      <td>std</td>\n",
       "      <td>722.931314</td>\n",
       "      <td>21.137177</td>\n",
       "      <td>76.651420</td>\n",
       "      <td>0.137569</td>\n",
       "      <td>0.143038</td>\n",
       "    </tr>\n",
       "    <tr>\n",
       "      <td>min</td>\n",
       "      <td>-1.000000</td>\n",
       "      <td>-1.000000</td>\n",
       "      <td>-1.000000</td>\n",
       "      <td>-0.838525</td>\n",
       "      <td>-0.755355</td>\n",
       "    </tr>\n",
       "    <tr>\n",
       "      <td>25%</td>\n",
       "      <td>0.000000</td>\n",
       "      <td>0.000000</td>\n",
       "      <td>0.000000</td>\n",
       "      <td>-0.079057</td>\n",
       "      <td>-0.116927</td>\n",
       "    </tr>\n",
       "    <tr>\n",
       "      <td>50%</td>\n",
       "      <td>6.000000</td>\n",
       "      <td>0.000000</td>\n",
       "      <td>0.000000</td>\n",
       "      <td>0.000000</td>\n",
       "      <td>-0.027277</td>\n",
       "    </tr>\n",
       "    <tr>\n",
       "      <td>75%</td>\n",
       "      <td>37.000000</td>\n",
       "      <td>2.000000</td>\n",
       "      <td>4.000000</td>\n",
       "      <td>0.063969</td>\n",
       "      <td>0.057354</td>\n",
       "    </tr>\n",
       "    <tr>\n",
       "      <td>max</td>\n",
       "      <td>49211.000000</td>\n",
       "      <td>1267.000000</td>\n",
       "      <td>3716.000000</td>\n",
       "      <td>0.962354</td>\n",
       "      <td>0.964646</td>\n",
       "    </tr>\n",
       "  </tbody>\n",
       "</table>\n",
       "</div>"
      ],
      "text/plain": [
       "           Facebook    GooglePlus      LinkedIn  SentimentTitle  \\\n",
       "count  55932.000000  55932.000000  55932.000000    55932.000000   \n",
       "mean     132.050329      4.551616     14.300132       -0.006318   \n",
       "std      722.931314     21.137177     76.651420        0.137569   \n",
       "min       -1.000000     -1.000000     -1.000000       -0.838525   \n",
       "25%        0.000000      0.000000      0.000000       -0.079057   \n",
       "50%        6.000000      0.000000      0.000000        0.000000   \n",
       "75%       37.000000      2.000000      4.000000        0.063969   \n",
       "max    49211.000000   1267.000000   3716.000000        0.962354   \n",
       "\n",
       "       SentimentHeadline  \n",
       "count       55932.000000  \n",
       "mean           -0.029577  \n",
       "std             0.143038  \n",
       "min            -0.755355  \n",
       "25%            -0.116927  \n",
       "50%            -0.027277  \n",
       "75%             0.057354  \n",
       "max             0.964646  "
      ]
     },
     "execution_count": 12,
     "metadata": {},
     "output_type": "execute_result"
    }
   ],
   "source": [
    "train.describe()"
   ]
  },
  {
   "cell_type": "markdown",
   "metadata": {},
   "source": [
    "Checking the misssing null, values in the dataset!!"
   ]
  },
  {
   "cell_type": "code",
   "execution_count": 10,
   "metadata": {},
   "outputs": [
    {
     "data": {
      "text/plain": [
       "IDLink                 0\n",
       "Title                  0\n",
       "Headline               0\n",
       "Source               175\n",
       "Topic                  0\n",
       "PublishDate            0\n",
       "Facebook               0\n",
       "GooglePlus             0\n",
       "LinkedIn               0\n",
       "SentimentTitle         0\n",
       "SentimentHeadline      0\n",
       "dtype: int64"
      ]
     },
     "execution_count": 10,
     "metadata": {},
     "output_type": "execute_result"
    }
   ],
   "source": [
    "train.isnull().sum()\n",
    "\n",
    "# source column have 175 records as null!"
   ]
  },
  {
   "cell_type": "code",
   "execution_count": 11,
   "metadata": {},
   "outputs": [
    {
     "data": {
      "text/plain": [
       "Bloomberg           992\n",
       "Reuters             763\n",
       "ABC News            645\n",
       "New York Times      573\n",
       "The Guardian        551\n",
       "Business Insider    550\n",
       "Forbes              484\n",
       "Economic Times      461\n",
       "CNN                 447\n",
       "WinBeta             445\n",
       "Name: Source, dtype: int64"
      ]
     },
     "execution_count": 11,
     "metadata": {},
     "output_type": "execute_result"
    }
   ],
   "source": [
    "train['Source'].value_counts()[:10]\n",
    "\n",
    "# As we can see that most of the source is from bloomberg company then we just fill the null values with bloomberg for easy processing of our data!!"
   ]
  },
  {
   "cell_type": "code",
   "execution_count": 12,
   "metadata": {},
   "outputs": [],
   "source": [
    "train['Source'] = train['Source'].fillna('Bloomberg')"
   ]
  },
  {
   "cell_type": "code",
   "execution_count": 13,
   "metadata": {},
   "outputs": [
    {
     "data": {
      "text/plain": [
       "IDLink               0\n",
       "Title                0\n",
       "Headline             0\n",
       "Source               0\n",
       "Topic                0\n",
       "PublishDate          0\n",
       "Facebook             0\n",
       "GooglePlus           0\n",
       "LinkedIn             0\n",
       "SentimentTitle       0\n",
       "SentimentHeadline    0\n",
       "dtype: int64"
      ]
     },
     "execution_count": 13,
     "metadata": {},
     "output_type": "execute_result"
    }
   ],
   "source": [
    "# checkiung the null values again!!\n",
    "train.isnull().sum()"
   ]
  },
  {
   "cell_type": "code",
   "execution_count": 17,
   "metadata": {},
   "outputs": [],
   "source": [
    "## text column cleansing!!\n",
    "\n",
    "# remove the any alpha numerica nd spaces from our dataset to make it clean for our ML modelling!!"
   ]
  },
  {
   "cell_type": "code",
   "execution_count": 14,
   "metadata": {},
   "outputs": [
    {
     "name": "stderr",
     "output_type": "stream",
     "text": [
      "[nltk_data] Downloading package stopwords to\n",
      "[nltk_data]     C:\\Users\\shaqu\\AppData\\Roaming\\nltk_data...\n",
      "[nltk_data]   Package stopwords is already up-to-date!\n",
      "[nltk_data] Downloading package punkt to\n",
      "[nltk_data]     C:\\Users\\shaqu\\AppData\\Roaming\\nltk_data...\n",
      "[nltk_data]   Package punkt is already up-to-date!\n",
      "[nltk_data] Downloading package wordnet to\n",
      "[nltk_data]     C:\\Users\\shaqu\\AppData\\Roaming\\nltk_data...\n",
      "[nltk_data]   Package wordnet is already up-to-date!\n"
     ]
    }
   ],
   "source": [
    "nltk.download('stopwords')\n",
    "nltk.download('punkt')\n",
    "nltk.download('wordnet')\n",
    "\n",
    "stop = set(stopwords.words('english'))\n",
    "\n",
    "def clean(text):\n",
    "  text_token = word_tokenize(text)\n",
    "  filtered_text = ' '.join([w.lower() for w in text_token if w.lower() not in stop and len(w) > 2])\n",
    "  filtered_text = filtered_text.replace(r\"[^a-zA-Z]+\", '')\n",
    "  text_only = re.sub(r'\\b\\d+\\b', '', filtered_text)\n",
    "  clean_text = text_only.replace(',', '').replace('.', '').replace(':', '')\n",
    "  return clean_text"
   ]
  },
  {
   "cell_type": "code",
   "execution_count": 15,
   "metadata": {},
   "outputs": [
    {
     "data": {
      "text/plain": [
       "IDLink           0\n",
       "Title            0\n",
       "Headline         0\n",
       "Source         101\n",
       "Topic            0\n",
       "PublishDate      0\n",
       "Facebook         0\n",
       "GooglePlus       0\n",
       "LinkedIn         0\n",
       "dtype: int64"
      ]
     },
     "execution_count": 15,
     "metadata": {},
     "output_type": "execute_result"
    }
   ],
   "source": [
    "## checking the null valus for test data\n",
    "test.isnull().sum()"
   ]
  },
  {
   "cell_type": "code",
   "execution_count": 19,
   "metadata": {},
   "outputs": [],
   "source": [
    "test['Source'] = test['Source'].fillna('Bloomberg')\n",
    "\n",
    "# filling the values with the max value of source!"
   ]
  },
  {
   "cell_type": "code",
   "execution_count": 20,
   "metadata": {},
   "outputs": [],
   "source": [
    "train['Text_Title'] = train['Title'] + ' ' + train['Source'] + ' ' + train['Topic']\n",
    "test['Text_Title'] = test['Title'] + ' ' + test['Source'] + ' ' + test['Topic']\n",
    "\n",
    "train['Text_Headline'] = train['Headline'] + ' ' + train['Source'] + ' ' + train['Topic']\n",
    "test['Text_Headline'] = test['Headline'] + ' ' + test['Source'] + ' ' + test['Topic']"
   ]
  },
  {
   "cell_type": "code",
   "execution_count": 21,
   "metadata": {},
   "outputs": [
    {
     "data": {
      "text/plain": [
       "'Tourism, govt spending buoys Thai economy in January The Nation - Thailand&#39;s English news economy'"
      ]
     },
     "execution_count": 21,
     "metadata": {},
     "output_type": "execute_result"
    }
   ],
   "source": [
    "train['Text_Title'][:10]\n",
    "train['Text_Title'][4]"
   ]
  },
  {
   "cell_type": "code",
   "execution_count": 22,
   "metadata": {},
   "outputs": [],
   "source": [
    "train['Text_Title'] = [clean(x) for x in train['Text_Title']]\n",
    "test['Text_Title'] = [clean(x) for x in test['Text_Title']]\n",
    "\n",
    "train['Text_Headline'] = [clean(x) for x in train['Text_Headline']]\n",
    "test['Text_Headline'] = [clean(x) for x in test['Text_Headline']]"
   ]
  },
  {
   "cell_type": "code",
   "execution_count": 23,
   "metadata": {},
   "outputs": [
    {
     "data": {
      "text/plain": [
       "0    obama lays wreath arlington national cemetery ...\n",
       "1        look health chinese economy bloomberg economy\n",
       "2    nouriel roubini global economy back  bloomberg...\n",
       "3                 finland gdp expands rtt news economy\n",
       "4    tourism govt spending buoys thai economy janua...\n",
       "5    intellitec solutions host 13th annual spring m...\n",
       "6                      monday feb  bloomberg palestine\n",
       "7    obama stars pay musical tribute ray charles co...\n",
       "8    fire claims -year-old barn hancock county wthr...\n",
       "9    microsoft new windows targets apple new kerala...\n",
       "Name: Text_Title, dtype: object"
      ]
     },
     "execution_count": 23,
     "metadata": {},
     "output_type": "execute_result"
    }
   ],
   "source": [
    "train['Text_Title'][:10]"
   ]
  },
  {
   "cell_type": "code",
   "execution_count": 25,
   "metadata": {},
   "outputs": [],
   "source": [
    "# There is non iisue of whitespace problem!!"
   ]
  },
  {
   "cell_type": "code",
   "execution_count": 24,
   "metadata": {},
   "outputs": [
    {
     "data": {
      "image/png": "[encoded data removed]",
      "text/plain": [
       "<Figure size 432x288 with 1 Axes>"
      ]
     },
     "metadata": {
      "needs_background": "light"
     },
     "output_type": "display_data"
    }
   ],
   "source": [
    "## lets plot the visualization of the text title !!\n",
    "text = \"\"\n",
    "for ind, row in train.iterrows():\n",
    "    text += row[\"Text_Title\"] + \" \"\n",
    "text = text.strip()\n",
    "\n",
    "wordcloud = WordCloud(background_color='white', width=1000, height=600, max_font_size=300, max_words=50).generate(text)\n",
    "wordcloud.recolor(random_state=ind*312)\n",
    "plt.imshow(wordcloud)\n",
    "plt.axis(\"off\")\n",
    "plt.show()"
   ]
  },
  {
   "cell_type": "code",
   "execution_count": 27,
   "metadata": {},
   "outputs": [
    {
     "data": {
      "image/png": "[encoded data removed]",
      "text/plain": [
       "<Figure size 432x288 with 1 Axes>"
      ]
     },
     "metadata": {
      "needs_background": "light"
     },
     "output_type": "display_data"
    }
   ],
   "source": [
    "# plot the text headlines!!\n",
    "text = \"\"\n",
    "for ind, row in train.iterrows():\n",
    "    text += row[\"Text_Headline\"] + \" \"\n",
    "text = text.strip()\n",
    "\n",
    "wordcloud = WordCloud(background_color='white', width=1000, height=600, max_font_size=100, max_words=50).generate(text)\n",
    "wordcloud.recolor(random_state=ind*312)\n",
    "plt.imshow(wordcloud)\n",
    "plt.axis(\"off\")\n",
    "plt.show()"
   ]
  },
  {
   "cell_type": "code",
   "execution_count": 28,
   "metadata": {},
   "outputs": [],
   "source": [
    "## now doing some vectorization method for transforming bour dataset!! for training data set"
   ]
  },
  {
   "cell_type": "code",
   "execution_count": 25,
   "metadata": {},
   "outputs": [],
   "source": [
    "vectorizer = TfidfVectorizer(use_idf=True)\n",
    "\n",
    "train_v_Title = vectorizer.fit_transform(train['Text_Title'])\n",
    "test_v_Title = vectorizer.transform(test['Text_Title'])\n",
    "\n",
    "vectorizer_ = TfidfVectorizer()\n",
    "\n",
    "train_v_Headline = vectorizer_.fit_transform(train['Text_Headline'])\n",
    "test_v_Headline = vectorizer_.transform(test['Text_Headline'])"
   ]
  },
  {
   "cell_type": "code",
   "execution_count": 82,
   "metadata": {},
   "outputs": [
    {
     "data": {
      "text/plain": [
       "(55932, 20)"
      ]
     },
     "execution_count": 82,
     "metadata": {},
     "output_type": "execute_result"
    }
   ],
   "source": [
    "train_v_Title.shape"
   ]
  },
  {
   "cell_type": "code",
   "execution_count": 84,
   "metadata": {},
   "outputs": [
    {
     "data": {
      "text/plain": [
       "(55932, 20)"
      ]
     },
     "execution_count": 84,
     "metadata": {},
     "output_type": "execute_result"
    }
   ],
   "source": [
    "train_v_Headline.shape"
   ]
  },
  {
   "cell_type": "code",
   "execution_count": 26,
   "metadata": {},
   "outputs": [],
   "source": [
    "# svd = TruncatedSVD(n_components=20)\n",
    "\n",
    "# train_v_Title = svd.fit_transform(train_v_Title)\n",
    "# test_v_Title = svd.transform(test_v_Title)\n",
    "\n",
    "# train_v_Headline = svd.fit_transform(train_v_Headline)\n",
    "# test_v_Headline = svd.transform(test_v_Headline)"
   ]
  },
  {
   "cell_type": "code",
   "execution_count": 30,
   "metadata": {},
   "outputs": [],
   "source": [
    "## now doing some vectorization method for transforming our dataset!! for testing data set"
   ]
  },
  {
   "cell_type": "markdown",
   "metadata": {},
   "source": [
    "Now moving forward to core of our project to calculate the sentiment of our text data!!"
   ]
  },
  {
   "cell_type": "code",
   "execution_count": 27,
   "metadata": {},
   "outputs": [],
   "source": [
    "train['polarity_title'] = train['Title'].apply(lambda x: TextBlob(x).sentiment.polarity)\n",
    "test['polarity_title'] = test['Title'].apply(lambda x: TextBlob(x).sentiment.polarity)\n",
    "\n",
    "train['subjectivity_title'] = train['Title'].apply(lambda x: TextBlob(x).sentiment.subjectivity)\n",
    "test['subjectivity_title'] = test['Title'].apply(lambda x: TextBlob(x).sentiment.subjectivity)"
   ]
  },
  {
   "cell_type": "code",
   "execution_count": 28,
   "metadata": {},
   "outputs": [
    {
     "data": {
      "text/plain": [
       "0        0.00\n",
       "1        0.00\n",
       "2        0.00\n",
       "3        0.00\n",
       "4        0.00\n",
       "         ... \n",
       "55927    0.00\n",
       "55928    0.25\n",
       "55929   -0.70\n",
       "55930    0.00\n",
       "55931    0.00\n",
       "Name: polarity_title, Length: 55932, dtype: float64"
      ]
     },
     "execution_count": 28,
     "metadata": {},
     "output_type": "execute_result"
    }
   ],
   "source": [
    "train['polarity_title']"
   ]
  },
  {
   "cell_type": "code",
   "execution_count": 29,
   "metadata": {},
   "outputs": [],
   "source": [
    "train['polarity_headline'] = train['Headline'].apply(lambda x: TextBlob(x).sentiment.polarity)\n",
    "test['polarity_headline'] = test['Headline'].apply(lambda x: TextBlob(x).sentiment.polarity)\n",
    "\n",
    "train['subjectivity_headline'] = train['Headline'].apply(lambda x: TextBlob(x).sentiment.subjectivity)\n",
    "test['subjectivity_headline'] = test['Headline'].apply(lambda x: TextBlob(x).sentiment.subjectivity)"
   ]
  },
  {
   "cell_type": "code",
   "execution_count": 30,
   "metadata": {},
   "outputs": [
    {
     "data": {
      "text/plain": [
       "0        0.000000\n",
       "1        0.100000\n",
       "2        0.000000\n",
       "3       -0.166667\n",
       "4        0.133333\n",
       "           ...   \n",
       "55927    0.000000\n",
       "55928    0.021429\n",
       "55929    0.088690\n",
       "55930    0.000000\n",
       "55931   -0.700000\n",
       "Name: polarity_headline, Length: 55932, dtype: float64"
      ]
     },
     "execution_count": 30,
     "metadata": {},
     "output_type": "execute_result"
    }
   ],
   "source": [
    "train['polarity_headline']"
   ]
  },
  {
   "cell_type": "markdown",
   "metadata": {},
   "source": [
    " now encoding the colum,n topic and source by creating the dummies values!!"
   ]
  },
  {
   "cell_type": "code",
   "execution_count": 31,
   "metadata": {},
   "outputs": [],
   "source": [
    "encoder = LabelEncoder()\n",
    "\n",
    "train['Topic'] = encoder.fit_transform(train['Topic'])\n",
    "test['Topic'] = encoder.transform(test['Topic'])\n",
    "\n",
    "total = train['Source'].to_list() + test['Source'].to_list()\n",
    "total = encoder.fit_transform(total)\n",
    "train['Source'] = encoder.transform(train['Source'])\n",
    "test['Source'] = encoder.transform(test['Source'])"
   ]
  },
  {
   "cell_type": "code",
   "execution_count": 32,
   "metadata": {},
   "outputs": [
    {
     "data": {
      "text/plain": [
       "0        4995\n",
       "1         518\n",
       "2         518\n",
       "3        3621\n",
       "4        4597\n",
       "         ... \n",
       "55927    5360\n",
       "55928    2500\n",
       "55929    2010\n",
       "55930    4185\n",
       "55931    5382\n",
       "Name: Source, Length: 55932, dtype: int32"
      ]
     },
     "execution_count": 32,
     "metadata": {},
     "output_type": "execute_result"
    }
   ],
   "source": [
    "train['Source']"
   ]
  },
  {
   "cell_type": "code",
   "execution_count": 33,
   "metadata": {},
   "outputs": [
    {
     "data": {
      "text/plain": [
       "0         659\n",
       "1        1146\n",
       "2        1350\n",
       "3         524\n",
       "4        1556\n",
       "         ... \n",
       "37283    2767\n",
       "37284    4121\n",
       "37285    1132\n",
       "37286     169\n",
       "37287    1359\n",
       "Name: Source, Length: 37288, dtype: int32"
      ]
     },
     "execution_count": 33,
     "metadata": {},
     "output_type": "execute_result"
    }
   ],
   "source": [
    "test['Source']"
   ]
  },
  {
   "cell_type": "code",
   "execution_count": 34,
   "metadata": {},
   "outputs": [],
   "source": [
    "# day type monday to sunday from datetime!!\n",
    "\n",
    "train_weekday = []\n",
    "test_weekday = []\n",
    "\n",
    "for i in train['PublishDate']:\n",
    "    train_weekday.append(datetime.datetime.strptime(i, \"%Y-%m-%d %H:%M:%S\").strftime(\"%A\"))\n",
    "    \n",
    "for i in test['PublishDate']:\n",
    "    test_weekday.append(datetime.datetime.strptime(i, \"%Y-%m-%d %H:%M:%S\").strftime(\"%A\"))\n",
    "\n",
    "train['weekday'] = train_weekday\n",
    "test['weekday'] = test_weekday\n",
    "\n",
    "\n",
    "# convert weekday to 1-7 of train data\n",
    "\n",
    "train['weekday'] = train['weekday'].map({'Monday': 0,\n",
    "                                        'Tuesday': 1,\n",
    "                                        'Wednesday': 2,\n",
    "                                        'Thursday': 3,\n",
    "                                        'Friday': 4,\n",
    "                                        'Saturday': 5,\n",
    "                                        'Sunday': 6})\n"
   ]
  },
  {
   "cell_type": "code",
   "execution_count": 35,
   "metadata": {},
   "outputs": [],
   "source": [
    "# convert weekday to 1-7 of test data\n",
    "test['weekday'] = test['weekday'].map({'Monday': 0,\n",
    "                                        'Tuesday': 1,\n",
    "                                        'Wednesday': 2,\n",
    "                                        'Thursday': 3,\n",
    "                                        'Friday': 4,\n",
    "                                        'Saturday': 5,\n",
    "                                        'Sunday': 6})"
   ]
  },
  {
   "cell_type": "code",
   "execution_count": 36,
   "metadata": {},
   "outputs": [],
   "source": [
    "train[\"hour\"] = train[\"PublishDate\"].apply(lambda x: x.split()[1].split(':')[0])\n",
    "test[\"hour\"] = test[\"PublishDate\"].apply(lambda x: x.split()[1].split(':')[0])"
   ]
  },
  {
   "cell_type": "code",
   "execution_count": 37,
   "metadata": {},
   "outputs": [
    {
     "data": {
      "text/plain": [
       "Text(0, 0.5, 'SentimentTitle')"
      ]
     },
     "execution_count": 37,
     "metadata": {},
     "output_type": "execute_result"
    },
    {
     "data": {
      "image/png": "[encoded data removed]",
      "text/plain": [
       "<Figure size 432x288 with 1 Axes>"
      ]
     },
     "metadata": {
      "needs_background": "light"
     },
     "output_type": "display_data"
    }
   ],
   "source": [
    "\n",
    "# plotting of the hour vs sentiminet title \n",
    "plt.scatter(train['hour'], train['SentimentTitle'], color= 'green')\n",
    "plt.xlabel('hour')\n",
    "plt.ylabel('SentimentTitle')"
   ]
  },
  {
   "cell_type": "code",
   "execution_count": 40,
   "metadata": {},
   "outputs": [
    {
     "data": {
      "text/plain": [
       "Text(0, 0.5, 'SentimentHeadline')"
      ]
     },
     "execution_count": 40,
     "metadata": {},
     "output_type": "execute_result"
    },
    {
     "data": {
      "image/png": "[encoded data removed]",
      "text/plain": [
       "<Figure size 432x288 with 1 Axes>"
      ]
     },
     "metadata": {
      "needs_background": "light"
     },
     "output_type": "display_data"
    }
   ],
   "source": [
    "# distribution plot for hour vs sentimental headlines\n",
    "\n",
    "plt.scatter(train['hour'], train['SentimentHeadline'], color='red')\n",
    "plt.xlabel('hour')\n",
    "plt.ylabel('SentimentHeadline')"
   ]
  },
  {
   "cell_type": "code",
   "execution_count": 41,
   "metadata": {},
   "outputs": [
    {
     "data": {
      "text/plain": [
       "Text(0, 0.5, 'SentimentTitle')"
      ]
     },
     "execution_count": 41,
     "metadata": {},
     "output_type": "execute_result"
    },
    {
     "data": {
      "image/png": "[encoded data removed]",
      "text/plain": [
       "<Figure size 432x288 with 1 Axes>"
      ]
     },
     "metadata": {
      "needs_background": "light"
     },
     "output_type": "display_data"
    }
   ],
   "source": [
    "# weekday distribution for weekdays and setimental Title!!\n",
    "\n",
    "plt.scatter(train['weekday'], train['SentimentTitle'])\n",
    "plt.xlabel('weekday')\n",
    "plt.ylabel('SentimentTitle')"
   ]
  },
  {
   "cell_type": "code",
   "execution_count": 42,
   "metadata": {},
   "outputs": [
    {
     "data": {
      "text/plain": [
       "Text(0, 0.5, 'SentimentHeadline')"
      ]
     },
     "execution_count": 42,
     "metadata": {},
     "output_type": "execute_result"
    },
    {
     "data": {
      "image/png": "[encoded data removed]",
      "text/plain": [
       "<Figure size 432x288 with 1 Axes>"
      ]
     },
     "metadata": {
      "needs_background": "light"
     },
     "output_type": "display_data"
    }
   ],
   "source": [
    "# weekday distribution for weekdays and setimental Headlines!!\n",
    "\n",
    "\n",
    "plt.scatter(train['weekday'], train['SentimentHeadline'], color= 'violet')\n",
    "plt.xlabel('weekday')\n",
    "plt.ylabel('SentimentHeadline')"
   ]
  },
  {
   "cell_type": "code",
   "execution_count": 47,
   "metadata": {},
   "outputs": [
    {
     "data": {
      "text/plain": [
       "0       -0.053300\n",
       "1       -0.156386\n",
       "2        0.139754\n",
       "3        0.026064\n",
       "4        0.141084\n",
       "           ...   \n",
       "55927   -0.055902\n",
       "55928    0.056110\n",
       "55929    0.114820\n",
       "55930   -0.028296\n",
       "55931    0.184444\n",
       "Name: SentimentHeadline, Length: 55932, dtype: float64"
      ]
     },
     "execution_count": 47,
     "metadata": {},
     "output_type": "execute_result"
    }
   ],
   "source": [
    "train['SentimentHeadline']"
   ]
  },
  {
   "cell_type": "code",
   "execution_count": 43,
   "metadata": {},
   "outputs": [],
   "source": [
    "# figuuring out the number of words in the title!!\n",
    "\n",
    "# Number of words in the Title \n",
    "train[\"num_words_title\"] = train[\"Text_Title\"].apply(lambda x: len(str(x).split()))\n",
    "test[\"num_words_title\"] = test[\"Text_Title\"].apply(lambda x: len(str(x).split()))\n",
    "\n",
    "# Number of unique words in the Title \n",
    "train[\"num_unique_words_title\"] = train[\"Text_Title\"].apply(lambda x: len(set(str(x).split())))\n",
    "test[\"num_unique_words_title\"] = test[\"Text_Title\"].apply(lambda x: len(set(str(x).split())))\n",
    "\n",
    "# Number of characters in the Title \n",
    "train[\"num_chars_title\"] = train[\"Text_Title\"].apply(lambda x: len(str(x)))\n",
    "test[\"num_chars_title\"] = test[\"Text_Title\"].apply(lambda x: len(str(x)))\n",
    "\n",
    "# Average length of the words in the Title \n",
    "train[\"mean_word_len_title\"] = train[\"Text_Title\"].apply(lambda x: np.mean([len(w) for w in str(x).split()]))\n",
    "test[\"mean_word_len_title\"] = test[\"Text_Title\"].apply(lambda x: np.mean([len(w) for w in str(x).split()]))"
   ]
  },
  {
   "cell_type": "code",
   "execution_count": 44,
   "metadata": {},
   "outputs": [],
   "source": [
    "# figuuring out the number of words in the title!!\n",
    "\n",
    "train[\"num_words_headline\"] = train[\"Text_Headline\"].apply(lambda x: len(str(x).split()))\n",
    "test[\"num_words_headline\"] = test[\"Text_Headline\"].apply(lambda x: len(str(x).split()))\n",
    "\n",
    "# Number of unique words in the Headline \n",
    "train[\"num_unique_words_headline\"] = train[\"Text_Headline\"].apply(lambda x: len(set(str(x).split())))\n",
    "test[\"num_unique_words_headline\"] = test[\"Text_Headline\"].apply(lambda x: len(set(str(x).split())))\n",
    "\n",
    "# Number of characters in the Headline \n",
    "train[\"num_chars_headline\"] = train[\"Text_Headline\"].apply(lambda x: len(str(x)))\n",
    "test[\"num_chars_headline\"] = test[\"Text_Headline\"].apply(lambda x: len(str(x)))\n",
    "\n",
    "# Average length of the words in the Headline \n",
    "train[\"mean_word_len_headline\"] = train[\"Text_Headline\"].apply(lambda x: np.mean([len(w) for w in str(x).split()]))\n",
    "test[\"mean_word_len_headline\"] = test[\"Text_Headline\"].apply(lambda x: np.mean([len(w) for w in str(x).split()]))"
   ]
  },
  {
   "cell_type": "code",
   "execution_count": 45,
   "metadata": {},
   "outputs": [],
   "source": [
    "## now standardization with scalar module!!\n",
    "\n",
    "scaler = StandardScaler()\n",
    "\n",
    "cols = ['Source', 'Topic', 'Facebook', 'GooglePlus', 'LinkedIn', 'num_words_title', 'num_unique_words_title', 'num_chars_title', 'mean_word_len_title',\n",
    "        'num_words_headline', 'num_unique_words_headline', 'num_chars_headline', 'mean_word_len_headline', 'hour', 'weekday']\n",
    "\n",
    "for col in cols:\n",
    "  train[col] = scaler.fit_transform(train[col].values.reshape(-1, 1))\n",
    "  test[col] = scaler.transform(test[col].values.reshape(-1, 1))"
   ]
  },
  {
   "cell_type": "code",
   "execution_count": 46,
   "metadata": {},
   "outputs": [],
   "source": [
    "\n",
    "# check the columns titles and headlines \n",
    "\n",
    "cols_title = ['Source', 'Topic', 'Facebook', 'GooglePlus', 'LinkedIn', 'num_words_title', 'num_unique_words_title', 'num_chars_title', 'mean_word_len_title', 'polarity_title', 'subjectivity_title', 'hour', 'weekday']\n",
    "train_X1 = train[cols_title]\n",
    "test_X1 = test[cols_title]\n",
    "\n",
    "cols_headline = ['Source', 'Topic', 'Facebook', 'GooglePlus', 'LinkedIn', 'num_words_headline', 'num_unique_words_headline', 'num_chars_headline', 'mean_word_len_headline', 'polarity_headline', 'subjectivity_headline', 'hour', 'weekday']\n",
    "train_X2 = train[cols_headline]\n",
    "test_X2 = test[cols_headline]\n"
   ]
  },
  {
   "cell_type": "code",
   "execution_count": 47,
   "metadata": {},
   "outputs": [
    {
     "data": {
      "text/html": [
       "<div>\n",
       "<style scoped>\n",
       "    .dataframe tbody tr th:only-of-type {\n",
       "        vertical-align: middle;\n",
       "    }\n",
       "\n",
       "    .dataframe tbody tr th {\n",
       "        vertical-align: top;\n",
       "    }\n",
       "\n",
       "    .dataframe thead th {\n",
       "        text-align: right;\n",
       "    }\n",
       "</style>\n",
       "<table border=\"1\" class=\"dataframe\">\n",
       "  <thead>\n",
       "    <tr style=\"text-align: right;\">\n",
       "      <th></th>\n",
       "      <th>Source</th>\n",
       "      <th>Topic</th>\n",
       "      <th>Facebook</th>\n",
       "      <th>GooglePlus</th>\n",
       "      <th>LinkedIn</th>\n",
       "      <th>num_words_title</th>\n",
       "      <th>num_unique_words_title</th>\n",
       "      <th>num_chars_title</th>\n",
       "      <th>mean_word_len_title</th>\n",
       "      <th>polarity_title</th>\n",
       "      <th>subjectivity_title</th>\n",
       "      <th>hour</th>\n",
       "      <th>weekday</th>\n",
       "    </tr>\n",
       "  </thead>\n",
       "  <tbody>\n",
       "    <tr>\n",
       "      <td>0</td>\n",
       "      <td>1.257700</td>\n",
       "      <td>0.841443</td>\n",
       "      <td>-0.184044</td>\n",
       "      <td>-0.262649</td>\n",
       "      <td>-0.199608</td>\n",
       "      <td>-0.259144</td>\n",
       "      <td>-0.304659</td>\n",
       "      <td>-0.572668</td>\n",
       "      <td>-0.612899</td>\n",
       "      <td>0.0</td>\n",
       "      <td>0.0</td>\n",
       "      <td>-1.699073</td>\n",
       "      <td>-0.795924</td>\n",
       "    </tr>\n",
       "    <tr>\n",
       "      <td>1</td>\n",
       "      <td>-1.314091</td>\n",
       "      <td>-1.108773</td>\n",
       "      <td>-0.184044</td>\n",
       "      <td>-0.262649</td>\n",
       "      <td>-0.199608</td>\n",
       "      <td>-1.668699</td>\n",
       "      <td>-1.721681</td>\n",
       "      <td>-1.629548</td>\n",
       "      <td>0.274497</td>\n",
       "      <td>0.0</td>\n",
       "      <td>0.0</td>\n",
       "      <td>-1.699073</td>\n",
       "      <td>1.338369</td>\n",
       "    </tr>\n",
       "    <tr>\n",
       "      <td>2</td>\n",
       "      <td>-1.314091</td>\n",
       "      <td>-1.108773</td>\n",
       "      <td>-0.184044</td>\n",
       "      <td>-0.262649</td>\n",
       "      <td>-0.199608</td>\n",
       "      <td>-1.198848</td>\n",
       "      <td>-1.249340</td>\n",
       "      <td>-1.035053</td>\n",
       "      <td>0.328828</td>\n",
       "      <td>0.0</td>\n",
       "      <td>0.0</td>\n",
       "      <td>-1.699073</td>\n",
       "      <td>1.338369</td>\n",
       "    </tr>\n",
       "    <tr>\n",
       "      <td>3</td>\n",
       "      <td>0.468412</td>\n",
       "      <td>-1.108773</td>\n",
       "      <td>-0.184044</td>\n",
       "      <td>-0.262649</td>\n",
       "      <td>-0.199608</td>\n",
       "      <td>-1.668699</td>\n",
       "      <td>-1.249340</td>\n",
       "      <td>-2.224043</td>\n",
       "      <td>-1.436911</td>\n",
       "      <td>0.0</td>\n",
       "      <td>0.0</td>\n",
       "      <td>-1.699073</td>\n",
       "      <td>1.871942</td>\n",
       "    </tr>\n",
       "    <tr>\n",
       "      <td>4</td>\n",
       "      <td>1.029071</td>\n",
       "      <td>-1.108773</td>\n",
       "      <td>-0.184044</td>\n",
       "      <td>-0.262649</td>\n",
       "      <td>-0.199608</td>\n",
       "      <td>1.150411</td>\n",
       "      <td>1.112364</td>\n",
       "      <td>1.012652</td>\n",
       "      <td>-0.295972</td>\n",
       "      <td>0.0</td>\n",
       "      <td>0.0</td>\n",
       "      <td>-1.699073</td>\n",
       "      <td>1.871942</td>\n",
       "    </tr>\n",
       "  </tbody>\n",
       "</table>\n",
       "</div>"
      ],
      "text/plain": [
       "     Source     Topic  Facebook  GooglePlus  LinkedIn  num_words_title  \\\n",
       "0  1.257700  0.841443 -0.184044   -0.262649 -0.199608        -0.259144   \n",
       "1 -1.314091 -1.108773 -0.184044   -0.262649 -0.199608        -1.668699   \n",
       "2 -1.314091 -1.108773 -0.184044   -0.262649 -0.199608        -1.198848   \n",
       "3  0.468412 -1.108773 -0.184044   -0.262649 -0.199608        -1.668699   \n",
       "4  1.029071 -1.108773 -0.184044   -0.262649 -0.199608         1.150411   \n",
       "\n",
       "   num_unique_words_title  num_chars_title  mean_word_len_title  \\\n",
       "0               -0.304659        -0.572668            -0.612899   \n",
       "1               -1.721681        -1.629548             0.274497   \n",
       "2               -1.249340        -1.035053             0.328828   \n",
       "3               -1.249340        -2.224043            -1.436911   \n",
       "4                1.112364         1.012652            -0.295972   \n",
       "\n",
       "   polarity_title  subjectivity_title      hour   weekday  \n",
       "0             0.0                 0.0 -1.699073 -0.795924  \n",
       "1             0.0                 0.0 -1.699073  1.338369  \n",
       "2             0.0                 0.0 -1.699073  1.338369  \n",
       "3             0.0                 0.0 -1.699073  1.871942  \n",
       "4             0.0                 0.0 -1.699073  1.871942  "
      ]
     },
     "execution_count": 47,
     "metadata": {},
     "output_type": "execute_result"
    }
   ],
   "source": [
    "train_X1.head()"
   ]
  },
  {
   "cell_type": "code",
   "execution_count": 48,
   "metadata": {},
   "outputs": [
    {
     "data": {
      "text/html": [
       "<div>\n",
       "<style scoped>\n",
       "    .dataframe tbody tr th:only-of-type {\n",
       "        vertical-align: middle;\n",
       "    }\n",
       "\n",
       "    .dataframe tbody tr th {\n",
       "        vertical-align: top;\n",
       "    }\n",
       "\n",
       "    .dataframe thead th {\n",
       "        text-align: right;\n",
       "    }\n",
       "</style>\n",
       "<table border=\"1\" class=\"dataframe\">\n",
       "  <thead>\n",
       "    <tr style=\"text-align: right;\">\n",
       "      <th></th>\n",
       "      <th>Source</th>\n",
       "      <th>Topic</th>\n",
       "      <th>Facebook</th>\n",
       "      <th>GooglePlus</th>\n",
       "      <th>LinkedIn</th>\n",
       "      <th>num_words_headline</th>\n",
       "      <th>num_unique_words_headline</th>\n",
       "      <th>num_chars_headline</th>\n",
       "      <th>mean_word_len_headline</th>\n",
       "      <th>polarity_headline</th>\n",
       "      <th>subjectivity_headline</th>\n",
       "      <th>hour</th>\n",
       "      <th>weekday</th>\n",
       "    </tr>\n",
       "  </thead>\n",
       "  <tbody>\n",
       "    <tr>\n",
       "      <td>0</td>\n",
       "      <td>1.257700</td>\n",
       "      <td>0.841443</td>\n",
       "      <td>-0.184044</td>\n",
       "      <td>-0.262649</td>\n",
       "      <td>-0.199608</td>\n",
       "      <td>-0.285943</td>\n",
       "      <td>-0.526753</td>\n",
       "      <td>-0.490533</td>\n",
       "      <td>-1.058531</td>\n",
       "      <td>0.000000</td>\n",
       "      <td>0.000000</td>\n",
       "      <td>-1.699073</td>\n",
       "      <td>-0.795924</td>\n",
       "    </tr>\n",
       "    <tr>\n",
       "      <td>1</td>\n",
       "      <td>-1.314091</td>\n",
       "      <td>-1.108773</td>\n",
       "      <td>-0.184044</td>\n",
       "      <td>-0.262649</td>\n",
       "      <td>-0.199608</td>\n",
       "      <td>-0.285943</td>\n",
       "      <td>-0.232503</td>\n",
       "      <td>-0.317671</td>\n",
       "      <td>-0.175891</td>\n",
       "      <td>0.100000</td>\n",
       "      <td>0.200000</td>\n",
       "      <td>-1.699073</td>\n",
       "      <td>1.338369</td>\n",
       "    </tr>\n",
       "    <tr>\n",
       "      <td>2</td>\n",
       "      <td>-1.314091</td>\n",
       "      <td>-1.108773</td>\n",
       "      <td>-0.184044</td>\n",
       "      <td>-0.262649</td>\n",
       "      <td>-0.199608</td>\n",
       "      <td>-0.413305</td>\n",
       "      <td>-0.673878</td>\n",
       "      <td>-0.300385</td>\n",
       "      <td>0.618485</td>\n",
       "      <td>0.000000</td>\n",
       "      <td>0.041667</td>\n",
       "      <td>-1.699073</td>\n",
       "      <td>1.338369</td>\n",
       "    </tr>\n",
       "    <tr>\n",
       "      <td>3</td>\n",
       "      <td>0.468412</td>\n",
       "      <td>-1.108773</td>\n",
       "      <td>-0.184044</td>\n",
       "      <td>-0.262649</td>\n",
       "      <td>-0.199608</td>\n",
       "      <td>0.096143</td>\n",
       "      <td>0.061747</td>\n",
       "      <td>0.304632</td>\n",
       "      <td>0.843558</td>\n",
       "      <td>-0.166667</td>\n",
       "      <td>0.166667</td>\n",
       "      <td>-1.699073</td>\n",
       "      <td>1.871942</td>\n",
       "    </tr>\n",
       "    <tr>\n",
       "      <td>4</td>\n",
       "      <td>1.029071</td>\n",
       "      <td>-1.108773</td>\n",
       "      <td>-0.184044</td>\n",
       "      <td>-0.262649</td>\n",
       "      <td>-0.199608</td>\n",
       "      <td>0.223505</td>\n",
       "      <td>0.208872</td>\n",
       "      <td>0.391063</td>\n",
       "      <td>0.618485</td>\n",
       "      <td>0.133333</td>\n",
       "      <td>0.380556</td>\n",
       "      <td>-1.699073</td>\n",
       "      <td>1.871942</td>\n",
       "    </tr>\n",
       "  </tbody>\n",
       "</table>\n",
       "</div>"
      ],
      "text/plain": [
       "     Source     Topic  Facebook  GooglePlus  LinkedIn  num_words_headline  \\\n",
       "0  1.257700  0.841443 -0.184044   -0.262649 -0.199608           -0.285943   \n",
       "1 -1.314091 -1.108773 -0.184044   -0.262649 -0.199608           -0.285943   \n",
       "2 -1.314091 -1.108773 -0.184044   -0.262649 -0.199608           -0.413305   \n",
       "3  0.468412 -1.108773 -0.184044   -0.262649 -0.199608            0.096143   \n",
       "4  1.029071 -1.108773 -0.184044   -0.262649 -0.199608            0.223505   \n",
       "\n",
       "   num_unique_words_headline  num_chars_headline  mean_word_len_headline  \\\n",
       "0                  -0.526753           -0.490533               -1.058531   \n",
       "1                  -0.232503           -0.317671               -0.175891   \n",
       "2                  -0.673878           -0.300385                0.618485   \n",
       "3                   0.061747            0.304632                0.843558   \n",
       "4                   0.208872            0.391063                0.618485   \n",
       "\n",
       "   polarity_headline  subjectivity_headline      hour   weekday  \n",
       "0           0.000000               0.000000 -1.699073 -0.795924  \n",
       "1           0.100000               0.200000 -1.699073  1.338369  \n",
       "2           0.000000               0.041667 -1.699073  1.338369  \n",
       "3          -0.166667               0.166667 -1.699073  1.871942  \n",
       "4           0.133333               0.380556 -1.699073  1.871942  "
      ]
     },
     "execution_count": 48,
     "metadata": {},
     "output_type": "execute_result"
    }
   ],
   "source": [
    "train_X2.head()"
   ]
  },
  {
   "cell_type": "code",
   "execution_count": 49,
   "metadata": {},
   "outputs": [
    {
     "data": {
      "text/html": [
       "<div>\n",
       "<style scoped>\n",
       "    .dataframe tbody tr th:only-of-type {\n",
       "        vertical-align: middle;\n",
       "    }\n",
       "\n",
       "    .dataframe tbody tr th {\n",
       "        vertical-align: top;\n",
       "    }\n",
       "\n",
       "    .dataframe thead th {\n",
       "        text-align: right;\n",
       "    }\n",
       "</style>\n",
       "<table border=\"1\" class=\"dataframe\">\n",
       "  <thead>\n",
       "    <tr style=\"text-align: right;\">\n",
       "      <th></th>\n",
       "      <th>Source</th>\n",
       "      <th>Topic</th>\n",
       "      <th>Facebook</th>\n",
       "      <th>GooglePlus</th>\n",
       "      <th>LinkedIn</th>\n",
       "      <th>num_words_title</th>\n",
       "      <th>num_unique_words_title</th>\n",
       "      <th>num_chars_title</th>\n",
       "      <th>mean_word_len_title</th>\n",
       "      <th>polarity_title</th>\n",
       "      <th>subjectivity_title</th>\n",
       "      <th>hour</th>\n",
       "      <th>weekday</th>\n",
       "    </tr>\n",
       "  </thead>\n",
       "  <tbody>\n",
       "    <tr>\n",
       "      <td>0</td>\n",
       "      <td>-1.233094</td>\n",
       "      <td>-1.108773</td>\n",
       "      <td>-0.182661</td>\n",
       "      <td>-0.215339</td>\n",
       "      <td>-0.173516</td>\n",
       "      <td>-0.259144</td>\n",
       "      <td>-0.304659</td>\n",
       "      <td>-0.440558</td>\n",
       "      <td>-0.359357</td>\n",
       "      <td>0.0</td>\n",
       "      <td>0.00</td>\n",
       "      <td>-1.555397</td>\n",
       "      <td>-0.795924</td>\n",
       "    </tr>\n",
       "    <tr>\n",
       "      <td>1</td>\n",
       "      <td>-0.953339</td>\n",
       "      <td>-0.133665</td>\n",
       "      <td>-0.015286</td>\n",
       "      <td>-0.120718</td>\n",
       "      <td>-0.016962</td>\n",
       "      <td>0.210707</td>\n",
       "      <td>0.167682</td>\n",
       "      <td>0.352102</td>\n",
       "      <td>0.084341</td>\n",
       "      <td>-0.1</td>\n",
       "      <td>0.35</td>\n",
       "      <td>-1.555397</td>\n",
       "      <td>-0.795924</td>\n",
       "    </tr>\n",
       "    <tr>\n",
       "      <td>2</td>\n",
       "      <td>-0.836153</td>\n",
       "      <td>-0.133665</td>\n",
       "      <td>-0.166062</td>\n",
       "      <td>-0.168028</td>\n",
       "      <td>-0.186562</td>\n",
       "      <td>0.210707</td>\n",
       "      <td>0.167682</td>\n",
       "      <td>0.418157</td>\n",
       "      <td>0.312529</td>\n",
       "      <td>0.0</td>\n",
       "      <td>0.00</td>\n",
       "      <td>-1.555397</td>\n",
       "      <td>-0.795924</td>\n",
       "    </tr>\n",
       "    <tr>\n",
       "      <td>3</td>\n",
       "      <td>-1.310644</td>\n",
       "      <td>-1.108773</td>\n",
       "      <td>-0.182661</td>\n",
       "      <td>-0.215339</td>\n",
       "      <td>-0.147424</td>\n",
       "      <td>2.090114</td>\n",
       "      <td>2.057046</td>\n",
       "      <td>1.078707</td>\n",
       "      <td>-1.382580</td>\n",
       "      <td>0.0</td>\n",
       "      <td>0.25</td>\n",
       "      <td>-1.411721</td>\n",
       "      <td>-0.795924</td>\n",
       "    </tr>\n",
       "    <tr>\n",
       "      <td>4</td>\n",
       "      <td>-0.717817</td>\n",
       "      <td>-1.108773</td>\n",
       "      <td>-0.178511</td>\n",
       "      <td>-0.215339</td>\n",
       "      <td>-0.186562</td>\n",
       "      <td>-0.259144</td>\n",
       "      <td>-0.304659</td>\n",
       "      <td>-0.506613</td>\n",
       "      <td>-0.486128</td>\n",
       "      <td>0.0</td>\n",
       "      <td>0.25</td>\n",
       "      <td>-1.411721</td>\n",
       "      <td>-0.795924</td>\n",
       "    </tr>\n",
       "  </tbody>\n",
       "</table>\n",
       "</div>"
      ],
      "text/plain": [
       "     Source     Topic  Facebook  GooglePlus  LinkedIn  num_words_title  \\\n",
       "0 -1.233094 -1.108773 -0.182661   -0.215339 -0.173516        -0.259144   \n",
       "1 -0.953339 -0.133665 -0.015286   -0.120718 -0.016962         0.210707   \n",
       "2 -0.836153 -0.133665 -0.166062   -0.168028 -0.186562         0.210707   \n",
       "3 -1.310644 -1.108773 -0.182661   -0.215339 -0.147424         2.090114   \n",
       "4 -0.717817 -1.108773 -0.178511   -0.215339 -0.186562        -0.259144   \n",
       "\n",
       "   num_unique_words_title  num_chars_title  mean_word_len_title  \\\n",
       "0               -0.304659        -0.440558            -0.359357   \n",
       "1                0.167682         0.352102             0.084341   \n",
       "2                0.167682         0.418157             0.312529   \n",
       "3                2.057046         1.078707            -1.382580   \n",
       "4               -0.304659        -0.506613            -0.486128   \n",
       "\n",
       "   polarity_title  subjectivity_title      hour   weekday  \n",
       "0             0.0                0.00 -1.555397 -0.795924  \n",
       "1            -0.1                0.35 -1.555397 -0.795924  \n",
       "2             0.0                0.00 -1.555397 -0.795924  \n",
       "3             0.0                0.25 -1.411721 -0.795924  \n",
       "4             0.0                0.25 -1.411721 -0.795924  "
      ]
     },
     "execution_count": 49,
     "metadata": {},
     "output_type": "execute_result"
    }
   ],
   "source": [
    "test_X1.head()"
   ]
  },
  {
   "cell_type": "code",
   "execution_count": 50,
   "metadata": {},
   "outputs": [
    {
     "data": {
      "text/html": [
       "<div>\n",
       "<style scoped>\n",
       "    .dataframe tbody tr th:only-of-type {\n",
       "        vertical-align: middle;\n",
       "    }\n",
       "\n",
       "    .dataframe tbody tr th {\n",
       "        vertical-align: top;\n",
       "    }\n",
       "\n",
       "    .dataframe thead th {\n",
       "        text-align: right;\n",
       "    }\n",
       "</style>\n",
       "<table border=\"1\" class=\"dataframe\">\n",
       "  <thead>\n",
       "    <tr style=\"text-align: right;\">\n",
       "      <th></th>\n",
       "      <th>Source</th>\n",
       "      <th>Topic</th>\n",
       "      <th>Facebook</th>\n",
       "      <th>GooglePlus</th>\n",
       "      <th>LinkedIn</th>\n",
       "      <th>num_words_headline</th>\n",
       "      <th>num_unique_words_headline</th>\n",
       "      <th>num_chars_headline</th>\n",
       "      <th>mean_word_len_headline</th>\n",
       "      <th>polarity_headline</th>\n",
       "      <th>subjectivity_headline</th>\n",
       "      <th>hour</th>\n",
       "      <th>weekday</th>\n",
       "    </tr>\n",
       "  </thead>\n",
       "  <tbody>\n",
       "    <tr>\n",
       "      <td>0</td>\n",
       "      <td>-1.233094</td>\n",
       "      <td>-1.108773</td>\n",
       "      <td>-0.182661</td>\n",
       "      <td>-0.215339</td>\n",
       "      <td>-0.173516</td>\n",
       "      <td>-0.668030</td>\n",
       "      <td>-0.526753</td>\n",
       "      <td>-0.490533</td>\n",
       "      <td>1.047196</td>\n",
       "      <td>0.000000</td>\n",
       "      <td>0.000000</td>\n",
       "      <td>-1.555397</td>\n",
       "      <td>-0.795924</td>\n",
       "    </tr>\n",
       "    <tr>\n",
       "      <td>1</td>\n",
       "      <td>-0.953339</td>\n",
       "      <td>-0.133665</td>\n",
       "      <td>-0.015286</td>\n",
       "      <td>-0.120718</td>\n",
       "      <td>-0.016962</td>\n",
       "      <td>-0.413305</td>\n",
       "      <td>-0.379628</td>\n",
       "      <td>-0.404102</td>\n",
       "      <td>-0.037978</td>\n",
       "      <td>0.000000</td>\n",
       "      <td>0.250000</td>\n",
       "      <td>-1.555397</td>\n",
       "      <td>-0.795924</td>\n",
       "    </tr>\n",
       "    <tr>\n",
       "      <td>2</td>\n",
       "      <td>-0.836153</td>\n",
       "      <td>-0.133665</td>\n",
       "      <td>-0.166062</td>\n",
       "      <td>-0.168028</td>\n",
       "      <td>-0.186562</td>\n",
       "      <td>2.133938</td>\n",
       "      <td>1.974371</td>\n",
       "      <td>2.517265</td>\n",
       "      <td>0.743526</td>\n",
       "      <td>-0.157407</td>\n",
       "      <td>0.251852</td>\n",
       "      <td>-1.555397</td>\n",
       "      <td>-0.795924</td>\n",
       "    </tr>\n",
       "    <tr>\n",
       "      <td>3</td>\n",
       "      <td>-1.310644</td>\n",
       "      <td>-1.108773</td>\n",
       "      <td>-0.182661</td>\n",
       "      <td>-0.215339</td>\n",
       "      <td>-0.147424</td>\n",
       "      <td>0.096143</td>\n",
       "      <td>0.208872</td>\n",
       "      <td>-0.110237</td>\n",
       "      <td>-0.957027</td>\n",
       "      <td>0.087500</td>\n",
       "      <td>0.272917</td>\n",
       "      <td>-1.411721</td>\n",
       "      <td>-0.795924</td>\n",
       "    </tr>\n",
       "    <tr>\n",
       "      <td>4</td>\n",
       "      <td>-0.717817</td>\n",
       "      <td>-1.108773</td>\n",
       "      <td>-0.178511</td>\n",
       "      <td>-0.215339</td>\n",
       "      <td>-0.186562</td>\n",
       "      <td>-0.413305</td>\n",
       "      <td>-0.379628</td>\n",
       "      <td>-0.542392</td>\n",
       "      <td>-0.694442</td>\n",
       "      <td>0.000000</td>\n",
       "      <td>0.000000</td>\n",
       "      <td>-1.411721</td>\n",
       "      <td>-0.795924</td>\n",
       "    </tr>\n",
       "  </tbody>\n",
       "</table>\n",
       "</div>"
      ],
      "text/plain": [
       "     Source     Topic  Facebook  GooglePlus  LinkedIn  num_words_headline  \\\n",
       "0 -1.233094 -1.108773 -0.182661   -0.215339 -0.173516           -0.668030   \n",
       "1 -0.953339 -0.133665 -0.015286   -0.120718 -0.016962           -0.413305   \n",
       "2 -0.836153 -0.133665 -0.166062   -0.168028 -0.186562            2.133938   \n",
       "3 -1.310644 -1.108773 -0.182661   -0.215339 -0.147424            0.096143   \n",
       "4 -0.717817 -1.108773 -0.178511   -0.215339 -0.186562           -0.413305   \n",
       "\n",
       "   num_unique_words_headline  num_chars_headline  mean_word_len_headline  \\\n",
       "0                  -0.526753           -0.490533                1.047196   \n",
       "1                  -0.379628           -0.404102               -0.037978   \n",
       "2                   1.974371            2.517265                0.743526   \n",
       "3                   0.208872           -0.110237               -0.957027   \n",
       "4                  -0.379628           -0.542392               -0.694442   \n",
       "\n",
       "   polarity_headline  subjectivity_headline      hour   weekday  \n",
       "0           0.000000               0.000000 -1.555397 -0.795924  \n",
       "1           0.000000               0.250000 -1.555397 -0.795924  \n",
       "2          -0.157407               0.251852 -1.555397 -0.795924  \n",
       "3           0.087500               0.272917 -1.411721 -0.795924  \n",
       "4           0.000000               0.000000 -1.411721 -0.795924  "
      ]
     },
     "execution_count": 50,
     "metadata": {},
     "output_type": "execute_result"
    }
   ],
   "source": [
    "test_X2.head()"
   ]
  },
  {
   "cell_type": "code",
   "execution_count": 56,
   "metadata": {},
   "outputs": [
    {
     "data": {
      "text/plain": [
       "Index(['IDLink', 'Title', 'Headline', 'Source', 'Topic', 'PublishDate',\n",
       "       'Facebook', 'GooglePlus', 'LinkedIn', 'SentimentTitle',\n",
       "       'SentimentHeadline', 'Text_Title', 'Text_Headline', 'polarity_title',\n",
       "       'subjectivity_title', 'polarity_headline', 'subjectivity_headline',\n",
       "       'weekday', 'hour', 'num_words_title', 'num_unique_words_title',\n",
       "       'num_chars_title', 'mean_word_len_title', 'num_words_headline',\n",
       "       'num_unique_words_headline', 'num_chars_headline',\n",
       "       'mean_word_len_headline'],\n",
       "      dtype='object')"
      ]
     },
     "execution_count": 56,
     "metadata": {},
     "output_type": "execute_result"
    }
   ],
   "source": [
    "train.columns"
   ]
  },
  {
   "cell_type": "code",
   "execution_count": 57,
   "metadata": {},
   "outputs": [
    {
     "name": "stdout",
     "output_type": "stream",
     "text": [
      "(55932, 13) train X1\n",
      "(37288, 13) test X1\n"
     ]
    }
   ],
   "source": [
    "# checking the shape of the data\n",
    "\n",
    "print(train_X1.shape, 'train X1')\n",
    "print(test_X1.shape, 'test X1')"
   ]
  },
  {
   "cell_type": "code",
   "execution_count": 58,
   "metadata": {},
   "outputs": [
    {
     "name": "stdout",
     "output_type": "stream",
     "text": [
      "(55932, 13) train X2\n",
      "(37288, 13) test X2\n"
     ]
    }
   ],
   "source": [
    "print(train_X2.shape, 'train X2')\n",
    "print(test_X2.shape, 'test X2')"
   ]
  },
  {
   "cell_type": "code",
   "execution_count": 64,
   "metadata": {},
   "outputs": [
    {
     "name": "stdout",
     "output_type": "stream",
     "text": [
      "(55932, 20)\n",
      "(37288, 20)\n"
     ]
    }
   ],
   "source": [
    "\n",
    "print(np.shape(train_v_Title))\n",
    "print(np.shape(test_v_Title))"
   ]
  },
  {
   "cell_type": "code",
   "execution_count": 65,
   "metadata": {},
   "outputs": [
    {
     "name": "stdout",
     "output_type": "stream",
     "text": [
      "(55932, 20)\n",
      "(37288, 20)\n"
     ]
    }
   ],
   "source": [
    "print(np.shape(train_v_Headline))\n",
    "print(np.shape(test_v_Headline))"
   ]
  },
  {
   "cell_type": "code",
   "execution_count": 59,
   "metadata": {},
   "outputs": [
    {
     "name": "stdout",
     "output_type": "stream",
     "text": [
      "(55932, 20)\n",
      "(37288, 20)\n"
     ]
    }
   ],
   "source": [
    "print(np.shape(train_v_Title))\n",
    "print(np.shape(test_v_Title))"
   ]
  },
  {
   "cell_type": "code",
   "execution_count": 61,
   "metadata": {},
   "outputs": [
    {
     "name": "stdout",
     "output_type": "stream",
     "text": [
      "(55932, 20)\n",
      "(37288, 20)\n"
     ]
    }
   ],
   "source": [
    "print(np.shape(train_v_Headline))\n",
    "print(np.shape(test_v_Headline))"
   ]
  },
  {
   "cell_type": "markdown",
   "metadata": {},
   "source": [
    "reducing the dimesnion for better performance of the model using SVD!!"
   ]
  },
  {
   "cell_type": "code",
   "execution_count": null,
   "metadata": {},
   "outputs": [],
   "source": [
    "\n"
   ]
  },
  {
   "cell_type": "code",
   "execution_count": 63,
   "metadata": {},
   "outputs": [
    {
     "name": "stdout",
     "output_type": "stream",
     "text": [
      "[[ 0.16775825 -0.11412548 -0.04822087 ... -0.00986373 -0.01220966\n",
      "  -0.02261364]\n",
      " [ 0.078058    0.07474753  0.11667698 ...  0.04775589 -0.05251913\n",
      "  -0.09417374]\n",
      " [ 0.0533445   0.05564995  0.10977539 ...  0.0646559  -0.00551403\n",
      "  -0.04585838]\n",
      " ...\n",
      " [ 0.1630509  -0.09041928 -0.03639916 ...  0.02606334 -0.05286184\n",
      "  -0.00654206]\n",
      " [ 0.07765037  0.18697134 -0.14515641 ... -0.0324557  -0.00185224\n",
      "  -0.01104474]\n",
      " [ 0.1170965   0.04986726  0.13595587 ...  0.07324378 -0.0077704\n",
      "  -0.02188705]] train headlines\n",
      "[[ 0.08542381  0.00946836  0.06325832 ... -0.02996335 -0.02102944\n",
      "   0.01318694]\n",
      " [ 0.09013356  0.16647582 -0.12805879 ... -0.00569838 -0.02772593\n",
      "  -0.00278818]\n",
      " [ 0.04638863  0.10680215 -0.08848141 ... -0.0041639  -0.01038824\n",
      "  -0.00113923]\n",
      " ...\n",
      " [ 0.0451431   0.01544674  0.01889963 ... -0.00841987 -0.01385428\n",
      "   0.01302112]\n",
      " [ 0.03321775  0.01313172  0.00825601 ...  0.01274547  0.02344735\n",
      "  -0.03616345]\n",
      " [ 0.07408856  0.13338602 -0.10063309 ... -0.02347683  0.03425783\n",
      "  -0.00212084]] test  headlines\n"
     ]
    }
   ],
   "source": [
    "print(train_v_Headline, 'train headlines')\n",
    "print(test_v_Headline, 'test  headlines')"
   ]
  },
  {
   "cell_type": "code",
   "execution_count": 66,
   "metadata": {},
   "outputs": [],
   "source": [
    "\n",
    "train_X_Title = hstack([train_v_Title, csr_matrix(train_X1.values)])\n",
    "test_X_Title = hstack([test_v_Title, csr_matrix(test_X1.values)])\n",
    "y1 = train['SentimentTitle']\n",
    "\n",
    "train_X_Headline = hstack([train_v_Headline, csr_matrix(train_X2.values)])\n",
    "test_X_Headline = hstack([test_v_Headline, csr_matrix(test_X2.values)])\n",
    "y2 = train['SentimentHeadline']"
   ]
  },
  {
   "cell_type": "code",
   "execution_count": 67,
   "metadata": {},
   "outputs": [
    {
     "name": "stdout",
     "output_type": "stream",
     "text": [
      "(55932, 33) train x title\n",
      "(37288, 33) test x title\n",
      "(55932, 33) train x Headline\n",
      "(37288, 33) test x Headline\n"
     ]
    }
   ],
   "source": [
    "print(train_X_Title.shape,'train x title')\n",
    "print(test_X_Title.shape,'test x title')\n",
    "print(train_X_Headline.shape,'train x Headline')\n",
    "print(test_X_Headline.shape,'test x Headline')"
   ]
  },
  {
   "cell_type": "code",
   "execution_count": 68,
   "metadata": {},
   "outputs": [
    {
     "data": {
      "text/plain": [
       "(55932, 33)"
      ]
     },
     "execution_count": 68,
     "metadata": {},
     "output_type": "execute_result"
    }
   ],
   "source": [
    "np.shape(train_X_Title)"
   ]
  },
  {
   "cell_type": "code",
   "execution_count": 69,
   "metadata": {},
   "outputs": [],
   "source": [
    "train_X_Title = hstack([train_v_Title, csr_matrix(train_X1.values)])\n",
    "test_X_Title = hstack([test_v_Title, csr_matrix(test_X1.values)])\n",
    "y1 = train['SentimentTitle']\n",
    "\n",
    "train_X_Headline = hstack([train_v_Headline, csr_matrix(train_X2.values)])\n",
    "test_X_Headline = hstack([test_v_Headline, csr_matrix(test_X2.values)])\n",
    "y2 = train['SentimentHeadline']"
   ]
  },
  {
   "cell_type": "code",
   "execution_count": 70,
   "metadata": {},
   "outputs": [
    {
     "data": {
      "text/plain": [
       "(55932, 33)"
      ]
     },
     "execution_count": 70,
     "metadata": {},
     "output_type": "execute_result"
    }
   ],
   "source": [
    "np.shape(train_X_Title)\n",
    "# np.shape(test_v_Title)"
   ]
  },
  {
   "cell_type": "markdown",
   "metadata": {},
   "source": [
    "## Selecting Machine learning model for best MAE results!!"
   ]
  },
  {
   "cell_type": "code",
   "execution_count": 71,
   "metadata": {},
   "outputs": [
    {
     "name": "stdout",
     "output_type": "stream",
     "text": [
      "MAE: 0.9055280809735686\n"
     ]
    },
    {
     "name": "stderr",
     "output_type": "stream",
     "text": [
      "C:\\ProgramData\\Anaconda3\\lib\\site-packages\\sklearn\\svm\\base.py:929: ConvergenceWarning: Liblinear failed to converge, increase the number of iterations.\n",
      "  \"the number of iterations.\", ConvergenceWarning)\n"
     ]
    }
   ],
   "source": [
    "# 1) select support vector m,achine model now with c= 0.2!\n",
    "\n",
    "X_train, X_test, y_train, y_test = train_test_split(train_X_Title, y1, test_size=0.20, random_state=42)\n",
    "\n",
    "clf1 = LinearSVR(C=0.2)\n",
    "clf1.fit(X_train, y_train)\n",
    "\n",
    "y_pred1 = clf1.predict(X_test)\n",
    "mae1 = mean_absolute_error(y_pred1, y_test)\n",
    "print('MAE:', 1 - mae1)"
   ]
  },
  {
   "cell_type": "code",
   "execution_count": 72,
   "metadata": {},
   "outputs": [
    {
     "name": "stdout",
     "output_type": "stream",
     "text": [
      "MAE: 0.8946623612719957\n"
     ]
    },
    {
     "name": "stderr",
     "output_type": "stream",
     "text": [
      "C:\\ProgramData\\Anaconda3\\lib\\site-packages\\sklearn\\svm\\base.py:929: ConvergenceWarning: Liblinear failed to converge, increase the number of iterations.\n",
      "  \"the number of iterations.\", ConvergenceWarning)\n"
     ]
    }
   ],
   "source": [
    "# 1) select support vector m,achine model now with c= 3!\n",
    "\n",
    "\n",
    "\n",
    "X_train, X_test, y_train, y_test = train_test_split(train_X_Headline, y2, test_size=0.20, random_state=42)\n",
    "\n",
    "clf2 = LinearSVR(C=0.3)\n",
    "clf2.fit(X_train, y_train)\n",
    "\n",
    "y_pred2 = clf2.predict(X_test)\n",
    "mae2 = mean_absolute_error(y_pred2, y_test)\n",
    "print('MAE:', 1 - mae2)"
   ]
  },
  {
   "cell_type": "code",
   "execution_count": 69,
   "metadata": {},
   "outputs": [],
   "source": [
    "\n",
    "# X_train, X_test, y_train, y_test = train_test_split(train_X_Headline, y2, test_size=0.20, random_state=42)\n",
    "\n",
    "# # clf3 = LinearSVR(C=0.9)\n",
    "# # clf3.fit(X_train, y_train)\n",
    "\n",
    "# # y_pred3 = clf3.predict(X_test)\n",
    "# # mae3 = mean_absolute_error(y_pred3, y_test)\n",
    "# # print('MAE:', 1 - mae3)"
   ]
  },
  {
   "cell_type": "code",
   "execution_count": 70,
   "metadata": {},
   "outputs": [],
   "source": [
    "## so our result with c= 0.9 in linear support vector regression is highest. so that we will use c= 0.9!!"
   ]
  },
  {
   "cell_type": "code",
   "execution_count": null,
   "metadata": {},
   "outputs": [],
   "source": []
  },
  {
   "cell_type": "markdown",
   "metadata": {},
   "source": [
    "## now checking the MAE( mean absolute error)"
   ]
  },
  {
   "cell_type": "code",
   "execution_count": 73,
   "metadata": {},
   "outputs": [
    {
     "name": "stdout",
     "output_type": "stream",
     "text": [
      "Leaderborad score= 0.8990086491526249\n"
     ]
    }
   ],
   "source": [
    "print('Leaderborad score=', max(0, 1 - ((0.4 * mae1) + (0.6 * mae2))))"
   ]
  },
  {
   "cell_type": "markdown",
   "metadata": {},
   "source": [
    "Now make prediction with test data!"
   ]
  },
  {
   "cell_type": "code",
   "execution_count": 74,
   "metadata": {},
   "outputs": [],
   "source": [
    "title = clf1.predict(test_X_Title)\n",
    "headline = clf2.predict(test_X_Headline)"
   ]
  },
  {
   "cell_type": "code",
   "execution_count": 88,
   "metadata": {},
   "outputs": [],
   "source": [
    "df = pd.DataFrame()\n",
    "test_id = test['IDLink']\n",
    "df['IDLink'] = test_id\n",
    "df['SentimentTitle'] = title\n",
    "df['SentimentHeadline'] = headline\n",
    "df.to_csv('sample_submissions.csv', index = False)"
   ]
  },
  {
   "cell_type": "code",
   "execution_count": 79,
   "metadata": {},
   "outputs": [
    {
     "data": {
      "text/plain": [
       "(11187,)"
      ]
     },
     "execution_count": 79,
     "metadata": {},
     "output_type": "execute_result"
    }
   ],
   "source": [
    "y_pred1.shape"
   ]
  },
  {
   "cell_type": "markdown",
   "metadata": {},
   "source": [
    "####  conclusion\n",
    "I have created the news sentiment analysis of the dataset provided using different metrics, and converted the sentiment title and headline into poloarity of the sentiments.. the more posive a setiment is the more it's positive and neagtive value of polarity is negative sentiments!!\n",
    "\n",
    "After analysing and using linear SVM modelling we reduced the MAE to 89.9 % with c= 0.2\n",
    "\n",
    "This model can be trained with other different news sentiment analysis for further use aswelll!!\n",
    "\n",
    "or can be transformed easily to use video and comments sentiment analysis of any ecommerce websites aswell!!\n",
    "\n",
    "\n"
   ]
  },
  {
   "cell_type": "code",
   "execution_count": null,
   "metadata": {},
   "outputs": [],
   "source": []
  }
 ],
 "metadata": {
  "kernelspec": {
   "display_name": "Python 3",
   "language": "python",
   "name": "python3"
  },
  "language_info": {
   "codemirror_mode": {
    "name": "ipython",
    "version": 3
   },
   "file_extension": ".py",
   "mimetype": "text/x-python",
   "name": "python",
   "nbconvert_exporter": "python",
   "pygments_lexer": "ipython3",
   "version": "3.7.4"
  }
 },
 "nbformat": 4,
 "nbformat_minor": 2
}
